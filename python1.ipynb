{
 "cells": [
  {
   "cell_type": "markdown",
   "id": "ca9fe6de-ebdd-4587-95bc-79d53b1fef8c",
   "metadata": {},
   "source": [
    "\n"
   ]
  },
  {
   "cell_type": "markdown",
   "id": "9b5b8861-2943-4961-940f-2c86881ffb5c",
   "metadata": {},
   "source": [
    "# Python"
   ]
  },
  {
   "cell_type": "markdown",
   "id": "b53b51d4-0215-41a3-94e1-8adccce4b36d",
   "metadata": {
    "jp-MarkdownHeadingCollapsed": true
   },
   "source": [
    "## basic component\n",
    "1. variable"
   ]
  },
  {
   "cell_type": "code",
   "execution_count": 6,
   "id": "695db78d-fce1-4bd8-8b30-45c0fb7910e4",
   "metadata": {},
   "outputs": [],
   "source": [
    "## variable\n",
    "a=1\n"
   ]
  },
  {
   "cell_type": "code",
   "execution_count": 7,
   "id": "9d92ba00-5cd9-46e2-8c06-3038da217e83",
   "metadata": {},
   "outputs": [
    {
     "name": "stdout",
     "output_type": "stream",
     "text": [
      "1\n"
     ]
    }
   ],
   "source": [
    "print(a)\n"
   ]
  },
  {
   "cell_type": "code",
   "execution_count": 8,
   "id": "b19420bf-94e7-401a-bfe6-725e19b6de3b",
   "metadata": {},
   "outputs": [],
   "source": [
    "a= \"i am taking the Data Science Course\""
   ]
  },
  {
   "cell_type": "code",
   "execution_count": 9,
   "id": "ffdff4f7-552e-46c7-8c3c-9cd9be1ec19c",
   "metadata": {},
   "outputs": [
    {
     "name": "stdout",
     "output_type": "stream",
     "text": [
      "i am taking the Data Science Course\n"
     ]
    }
   ],
   "source": [
    "print(a)"
   ]
  },
  {
   "cell_type": "code",
   "execution_count": 10,
   "id": "c6ac6ba7-ffe5-4b56-adc4-c4ff62907d28",
   "metadata": {},
   "outputs": [],
   "source": [
    "a=1\n",
    "b=14"
   ]
  },
  {
   "cell_type": "code",
   "execution_count": 11,
   "id": "37abd654",
   "metadata": {},
   "outputs": [
    {
     "name": "stdout",
     "output_type": "stream",
     "text": [
      "1\n",
      "14\n"
     ]
    }
   ],
   "source": [
    "if a>5 :\n",
    "    print(\"A++\")\n",
    "else:\n",
    "    print(a)\n",
    "    print(b)\n",
    "    "
   ]
  },
  {
   "cell_type": "markdown",
   "id": "66ef94b5",
   "metadata": {
    "jp-MarkdownHeadingCollapsed": true
   },
   "source": [
    "# Loops"
   ]
  },
  {
   "cell_type": "code",
   "execution_count": 13,
   "id": "48a33a46",
   "metadata": {},
   "outputs": [
    {
     "name": "stdout",
     "output_type": "stream",
     "text": [
      "0\n",
      "1\n",
      "2\n",
      "3\n",
      "4\n"
     ]
    }
   ],
   "source": [
    "for i in range(0,5):\n",
    "    print(i)"
   ]
  },
  {
   "cell_type": "code",
   "execution_count": 14,
   "id": "9750004b",
   "metadata": {},
   "outputs": [],
   "source": [
    "x,y,z=1,2,3"
   ]
  },
  {
   "cell_type": "code",
   "execution_count": 15,
   "id": "af022b08",
   "metadata": {},
   "outputs": [
    {
     "name": "stdout",
     "output_type": "stream",
     "text": [
      "1\n",
      "2\n",
      "3\n"
     ]
    }
   ],
   "source": [
    "print(x)\n",
    "print(y)\n",
    "print(z)"
   ]
  },
  {
   "cell_type": "code",
   "execution_count": 16,
   "id": "65504d42",
   "metadata": {},
   "outputs": [
    {
     "name": "stdout",
     "output_type": "stream",
     "text": [
      "3\n"
     ]
    }
   ],
   "source": [
    "xy=(x+y)\n",
    "print(xy)\n"
   ]
  },
  {
   "cell_type": "code",
   "execution_count": 17,
   "id": "dd77e004",
   "metadata": {},
   "outputs": [
    {
     "name": "stdout",
     "output_type": "stream",
     "text": [
      "BIA\n"
     ]
    }
   ],
   "source": [
    "if (x+z)<2 :\n",
    "    print(xy)\n",
    "else:\n",
    "    print(\"BIA\")"
   ]
  },
  {
   "cell_type": "code",
   "execution_count": 18,
   "id": "9d1c3b80",
   "metadata": {},
   "outputs": [
    {
     "name": "stdout",
     "output_type": "stream",
     "text": [
      "0\n",
      "1\n",
      "2\n",
      "3\n",
      "4\n",
      "5\n",
      "6\n"
     ]
    }
   ],
   "source": [
    "for i in range(0,7):\n",
    "    print(i)"
   ]
  },
  {
   "cell_type": "code",
   "execution_count": 19,
   "id": "0efc9aa2",
   "metadata": {},
   "outputs": [
    {
     "ename": "SyntaxError",
     "evalue": "invalid syntax (720181893.py, line 2)",
     "output_type": "error",
     "traceback": [
      "\u001b[1;36m  Cell \u001b[1;32mIn[19], line 2\u001b[1;36m\u001b[0m\n\u001b[1;33m    2. how to acces certain value from the string.\u001b[0m\n\u001b[1;37m       ^\u001b[0m\n\u001b[1;31mSyntaxError\u001b[0m\u001b[1;31m:\u001b[0m invalid syntax\n"
     ]
    }
   ],
   "source": [
    "1. how to claculate the length of a string?\n",
    "2. how to acces certain value from the string.\n",
    "3. write a for loop, which multiplies every number by two?\n",
    "4. how to remove extra spaces from string?\n",
    "5. how to split a sentence into indiviual elements?\n",
    "6. how to make a string in upper case/ lower case?\n"
   ]
  },
  {
   "cell_type": "markdown",
   "id": "1ec0a402-6d41-48fe-9691-19d3be423971",
   "metadata": {
    "jp-MarkdownHeadingCollapsed": true
   },
   "source": [
    "# check if a number is positive"
   ]
  },
  {
   "cell_type": "code",
   "execution_count": null,
   "id": "c378a44e-c57e-4216-9ace-37b90b2e088f",
   "metadata": {},
   "outputs": [],
   "source": [
    "a = 2\n",
    "if a>0:\n",
    "    print(\"positive\")\n",
    "else:\n",
    "    print(\"negative\")"
   ]
  },
  {
   "cell_type": "markdown",
   "id": "d3985d8c-ae3d-4230-9a29-0b7cc8a0042b",
   "metadata": {
    "jp-MarkdownHeadingCollapsed": true
   },
   "source": [
    "# vote based on age"
   ]
  },
  {
   "cell_type": "code",
   "execution_count": null,
   "id": "3ab326d5-fb20-4318-824c-29fd6ef4a740",
   "metadata": {},
   "outputs": [],
   "source": [
    "age = 30\n",
    "if age>18:\n",
    "    print(\"eligible for voting\")\n",
    "else:\n",
    "    print(\"unable to vote\")"
   ]
  },
  {
   "cell_type": "markdown",
   "id": "aa1833d4-7c67-4748-84d3-505d2a0f7058",
   "metadata": {
    "jp-MarkdownHeadingCollapsed": true
   },
   "source": [
    "# grade based on score"
   ]
  },
  {
   "cell_type": "code",
   "execution_count": null,
   "id": "85ed17ba-6bee-4a80-b972-dac1a0d5ddc3",
   "metadata": {},
   "outputs": [],
   "source": [
    "\n",
    "Score = 92\n",
    "\n",
    "if Score>=60 and Score<70:\n",
    "     print(\"D\")\n",
    "elif Score>=70 and Score<80:\n",
    "    print(\"C\")\n",
    "elif Score>=80 and Score<90:\n",
    "    print(\"B\")\n",
    "elif Score>=90:\n",
    "    print(\"A\")\n",
    "else:\n",
    "    print(\"fail\")"
   ]
  },
  {
   "cell_type": "markdown",
   "id": "a57e143a-9be2-4166-b001-e8f6b81e316d",
   "metadata": {
    "jp-MarkdownHeadingCollapsed": true
   },
   "source": [
    "# check if a number is even and positive"
   ]
  },
  {
   "cell_type": "code",
   "execution_count": null,
   "id": "1c23bca1-86f2-471d-abbd-34c0c867aa02",
   "metadata": {},
   "outputs": [],
   "source": [
    "num=-7984984985*-399894\n",
    "\n",
    "if (num % 2 ==0) and num>=0:\n",
    "    print(\"even and positive\")\n",
    "elif num % 2 ==0 and num<0:\n",
    "    print(\"even and neg\")\n",
    "elif num % 2 !=0 and num>=0:\n",
    "    print(\"odd and pos\")\n",
    "elif num % 2 !=0 and num<0:\n",
    "    print(\"odd and neg\")\n",
    "    "
   ]
  },
  {
   "cell_type": "code",
   "execution_count": null,
   "id": "607090cb-3c85-4b06-8312-6d6fd274a4a4",
   "metadata": {},
   "outputs": [],
   "source": [
    "input_value= input(\"Enter a number ?\")"
   ]
  },
  {
   "cell_type": "code",
   "execution_count": null,
   "id": "37e54eee-6399-4805-a165-c428368932e5",
   "metadata": {},
   "outputs": [],
   "source": [
    "input_value"
   ]
  },
  {
   "cell_type": "code",
   "execution_count": null,
   "id": "37fb34c6-86c1-4370-b9d0-4652ef576fb2",
   "metadata": {},
   "outputs": [],
   "source": [
    "type(input_value)"
   ]
  },
  {
   "cell_type": "code",
   "execution_count": null,
   "id": "27cb14de-ef64-48bf-b841-ed5bff27aeb7",
   "metadata": {},
   "outputs": [],
   "source": [
    "input_value= int()"
   ]
  },
  {
   "cell_type": "code",
   "execution_count": null,
   "id": "95d1afca-a076-4034-91ff-3d2d5fcb736b",
   "metadata": {},
   "outputs": [],
   "source": [
    "type(input_value)"
   ]
  },
  {
   "cell_type": "code",
   "execution_count": null,
   "id": "57778f9d-c0e0-49ae-9195-2a3e292025a4",
   "metadata": {},
   "outputs": [],
   "source": []
  },
  {
   "cell_type": "code",
   "execution_count": null,
   "id": "12df4f0f-dcec-4c5f-9365-6169c5814547",
   "metadata": {},
   "outputs": [],
   "source": [
    "i = 0\n",
    "while(i<5):\n",
    "    print(i)\n",
    "    i=i+1"
   ]
  },
  {
   "cell_type": "code",
   "execution_count": null,
   "id": "7ac2e604-bf9d-4f7a-9ede-398dcf2ee99c",
   "metadata": {},
   "outputs": [],
   "source": [
    "i = 0\n",
    "while(i<10):\n",
    "    print(i)\n",
    "    if i==7:\n",
    "        break\n",
    "    i = i+1"
   ]
  },
  {
   "cell_type": "markdown",
   "id": "156f7931-7c4d-41a3-aa0b-a2e390318c13",
   "metadata": {
    "jp-MarkdownHeadingCollapsed": true
   },
   "source": [
    "# For Loop with Strings"
   ]
  },
  {
   "cell_type": "code",
   "execution_count": null,
   "id": "f7edcd7e-7db2-4408-89f8-b95a5fb17f42",
   "metadata": {},
   "outputs": [],
   "source": [
    "a = \"for loop with reversed string\"\n",
    "def reverse_string(a):\n",
    "    aneg= ''\n",
    "    for i in range(len(a) - 1, -1, -1):\n",
    "        aneg += a[i]\n",
    "    return aneg\n",
    "aneg = reverse_string(a)\n",
    "print(a)\n",
    "print(aneg)\n",
    "    "
   ]
  },
  {
   "cell_type": "code",
   "execution_count": null,
   "id": "e7439456-ae71-4c37-b4ba-bd8e8e3e7282",
   "metadata": {},
   "outputs": [],
   "source": [
    "b = \"a cup of coffee\"\n",
    "bneg = reverse_string(b)\n",
    "print(b)\n",
    "print(bneg)"
   ]
  },
  {
   "cell_type": "code",
   "execution_count": null,
   "id": "c66b9371-dfcc-4e5c-aff4-1dfc0df24e4f",
   "metadata": {},
   "outputs": [],
   "source": [
    "def num_check(num):\n",
    "    if (num % 2 ==0) and num>=0:\n",
    "        print(\"even and positive\")\n",
    "    elif num % 2 ==0 and num<0:\n",
    "        print(\"even and neg\")\n",
    "    elif num % 2 !=0 and num>=0:\n",
    "        print(\"odd and pos\")\n",
    "    elif num % 2 !=0 and num<0:\n",
    "        print(\"odd and neg\")\n"
   ]
  },
  {
   "cell_type": "code",
   "execution_count": null,
   "id": "a0741ad1-33a3-44e6-becd-db7dba6e3a27",
   "metadata": {},
   "outputs": [],
   "source": [
    "num_check(28983)"
   ]
  },
  {
   "cell_type": "code",
   "execution_count": null,
   "id": "9bf5c59d-7634-4337-b77f-a00fe4d79a69",
   "metadata": {},
   "outputs": [],
   "source": [
    "num_check(-2)"
   ]
  },
  {
   "cell_type": "code",
   "execution_count": null,
   "id": "064d55e5-cef8-48bb-86f7-22a6d8a54eeb",
   "metadata": {},
   "outputs": [],
   "source": [
    "# Write a function that takes a number and tells if the number is even or odd?\n",
    "# Write a function that takes a number and tells if the number is positive of negative?\n",
    "# Write a function that takes a number and tells if the age is eligible for voting or not?\n",
    "# Write a function that takes two parameters,f_name, s_name, and combines them with a space between then and then return?\n",
    "# Write a function that takes two numbers and returns the sum of it?"
   ]
  },
  {
   "cell_type": "code",
   "execution_count": null,
   "id": "188c1c77-5f8e-461e-a7f4-469f271e58d6",
   "metadata": {},
   "outputs": [],
   "source": [
    "#2\n",
    "def posneg(num):\n",
    "    if num>=0:\n",
    "        return \"positive\"\n",
    "    elif num<0:\n",
    "        return \"negative\""
   ]
  },
  {
   "cell_type": "code",
   "execution_count": null,
   "id": "b221be94-0af7-4d98-ac5d-8bfb17053cb0",
   "metadata": {},
   "outputs": [],
   "source": [
    "posneg(50)"
   ]
  },
  {
   "cell_type": "code",
   "execution_count": null,
   "id": "7a6437b7-1676-4c37-92fe-a41657e1c928",
   "metadata": {},
   "outputs": [],
   "source": [
    "def combo(frst_name,last):\n",
    "    name = frst_name+\" \"+last\n",
    "    return(name)\n"
   ]
  },
  {
   "cell_type": "code",
   "execution_count": null,
   "id": "563e2316-5f49-4b0d-a04d-961664e74227",
   "metadata": {},
   "outputs": [],
   "source": [
    "combo(\"Muhammad\",\"Saqib\")"
   ]
  },
  {
   "cell_type": "code",
   "execution_count": null,
   "id": "224b353d-3f5d-4bff-bbe7-20e1c490d9f5",
   "metadata": {},
   "outputs": [],
   "source": [
    "File_handle = \"python.txt\"\n",
    "count_python = 0\n",
    "with open(python.txt, \"r\") as file:\n",
    "    line = file.readline()\n",
    "    while line:\n",
    "        if \"python\" in line:\n",
    "            count_python = count_python + 1\n",
    "            line = file.readline()\n",
    "return count_python\n",
    "\n",
    "print(count_python)"
   ]
  },
  {
   "cell_type": "code",
   "execution_count": null,
   "id": "5ea9a947-368f-4512-bb9a-a667110c8a62",
   "metadata": {},
   "outputs": [],
   "source": [
    "name = \"Saqib\"\n",
    "age = \"24\"\n",
    "gender = \"Male\"\n",
    "nationality = \"Pakistani\"\n",
    "current_location = \"Lahore\"\n",
    "\n",
    "person_details = \"The name of the person is {}. His Age is {} and gender {} holding {} nationality and currently located {}\".format(name, age, gender, nationality, current_location)\n",
    "\n",
    "print(person_details)"
   ]
  },
  {
   "cell_type": "code",
   "execution_count": null,
   "id": "3c6709b6-b21c-4b4e-a6da-0cc7fe960caf",
   "metadata": {},
   "outputs": [],
   "source": [
    "name = \"Saqib\"\n",
    "age = \"24\"\n",
    "gender = \"Male\"\n",
    "nationality = \"Pakistani\"\n",
    "current_location = \"Lahore\"\n",
    "\n",
    "person_details = f'The name of the person is {name} His Age is {age} and gender {gender} holding {nationality} nationality and currently located {current_location}'\n",
    "print(person_details)"
   ]
  },
  {
   "cell_type": "code",
   "execution_count": null,
   "id": "25489893-12dc-4125-8ed3-f365cc07b16b",
   "metadata": {},
   "outputs": [],
   "source": [
    "name = input(\"Name\")\n",
    "age = input(\"Age\")\n",
    "gender = input(\"Gender\")\n",
    "nationality = input(\"Nationality\")\n",
    "current_location = input(\"location\")\n",
    "\n",
    "person_details = f'The name of the person is {name} His Age is {age} and gender {gender} holding {nationality} nationality and currently located {current_location}'\n",
    "print(person_details)"
   ]
  },
  {
   "cell_type": "code",
   "execution_count": null,
   "id": "814f306b-0539-431c-97e0-92ff604cbbdd",
   "metadata": {},
   "outputs": [],
   "source": [
    "def multiply(*args):\n",
    "    res = 1\n",
    "    for i in args:\n",
    "        res = res * i\n",
    "        print(res)"
   ]
  },
  {
   "cell_type": "code",
   "execution_count": null,
   "id": "c276e544-1333-474b-bccb-3f9aee00528b",
   "metadata": {},
   "outputs": [],
   "source": [
    "multiply(2,4)"
   ]
  },
  {
   "cell_type": "code",
   "execution_count": null,
   "id": "01c26deb-e513-4622-84a0-3577e32d6b64",
   "metadata": {},
   "outputs": [],
   "source": [
    "def additional(*args):\n",
    "    a = 0\n",
    "    for i in args:\n",
    "        a = a +i\n",
    "        print(a)\n",
    "    return a*2"
   ]
  },
  {
   "cell_type": "code",
   "execution_count": null,
   "id": "bdc007f4-b047-4a55-815d-dbcbef3498b9",
   "metadata": {},
   "outputs": [],
   "source": [
    "additional(2,2)"
   ]
  },
  {
   "cell_type": "code",
   "execution_count": null,
   "id": "a6610834-aa9e-4446-8f01-a4bdab02eeff",
   "metadata": {},
   "outputs": [],
   "source": [
    "def pattern(n):\n",
    "    for i in range(n):\n",
    "        print(i*\"*\")\n",
    "    for i in range(n,0,-1):\n",
    "        print(i*\"*\")"
   ]
  },
  {
   "cell_type": "code",
   "execution_count": null,
   "id": "601ac9b3-5570-44d7-9761-bae3286e35dd",
   "metadata": {},
   "outputs": [],
   "source": [
    "pattern(5)"
   ]
  },
  {
   "cell_type": "markdown",
   "id": "2447560b-599d-43b7-abad-16fcea1ab0d2",
   "metadata": {},
   "source": [
    "## Factorial in Python"
   ]
  },
  {
   "cell_type": "code",
   "execution_count": null,
   "id": "c4580037-7c19-4320-9a71-962a28434d41",
   "metadata": {},
   "outputs": [],
   "source": [
    "def factorialis(n):\n",
    "    if n < 0:\n",
    "        return \"Factorial is not defined for negative numbers.\"\n",
    "    elif n == 0 or n == 1:\n",
    "        return 1\n",
    "    else:\n",
    "        result = 1\n",
    "        for i in range(2, n + 1):\n",
    "            result *= i\n",
    "        return result\n",
    "number = 5\n",
    "print(f\"The factorial of {number} is {factorial(number)}\")"
   ]
  },
  {
   "cell_type": "code",
   "execution_count": null,
   "id": "f89cca4a-519a-45e8-8dcc-818e79c66efb",
   "metadata": {},
   "outputs": [],
   "source": [
    "factorialis(0)"
   ]
  },
  {
   "cell_type": "code",
   "execution_count": null,
   "id": "6b735d67-3014-4511-9f02-08eeb3c0bf7b",
   "metadata": {},
   "outputs": [],
   "source": [
    "for i in range(10):\n",
    "    if i %2  == 0:\n",
    "        print(\"{} This is even\".format(i))\n",
    "    else:\n",
    "        print(f'{i} This is odd')\n",
    "\n",
    "        "
   ]
  },
  {
   "cell_type": "code",
   "execution_count": null,
   "id": "f901bc1b-aa47-4004-9d5c-4035e1afaa83",
   "metadata": {},
   "outputs": [],
   "source": [
    "mum = 1\n",
    "def mul_table(num):\n",
    "    for i in range(1,11):\n",
    "        print(num, 'x' , i , '=', i*num)"
   ]
  },
  {
   "cell_type": "code",
   "execution_count": null,
   "id": "410852d5-0c34-458c-9dbb-9f42731caf8b",
   "metadata": {},
   "outputs": [],
   "source": [
    "mul_table(3)"
   ]
  },
  {
   "cell_type": "code",
   "execution_count": null,
   "id": "c0027a96-4d7b-45cd-a961-601851b362ca",
   "metadata": {},
   "outputs": [],
   "source": [
    "mul_table(77)"
   ]
  },
  {
   "cell_type": "code",
   "execution_count": null,
   "id": "5e768721-53ca-4b78-81af-81e8b4d52eb0",
   "metadata": {},
   "outputs": [],
   "source": [
    "    student_2 = {\"name\":\"A\",\"age\":\"22\",\"marks\":\"47\"}\n",
    "    student_3 = {\"name\":\"B\",\"age\":\"27\",\"marks\":\"57\"}\n",
    "    student_4 = {\"name\":\"C\",\"age\":\"28\",\"marks\":\"67\"}\n",
    "    student_1 = {\"name\":\"D\",\"age\":\"20\",\"marks\":\"87\"}\n",
    "    student_5 = {\"name\":\"E\",\"age\":\"21\",\"marks\":\"97\"}\n",
    "    student_6 = {\"name\":\"F\",\"age\":\"22\",\"marks\":\"77\"}\n",
    "    student_7 = {\"name\":\"G\",\"age\":\"24\",\"marks\":\"66\"}\n"
   ]
  },
  {
   "cell_type": "code",
   "execution_count": null,
   "id": "758f8d8c-9edc-4f74-9619-0ae082be8389",
   "metadata": {},
   "outputs": [],
   "source": [
    "All_students = [student_1,student_2,student_3,student_4,student_5,student_6,student_7]"
   ]
  },
  {
   "cell_type": "code",
   "execution_count": null,
   "id": "a12c279c-de82-42de-93b8-659367a8408a",
   "metadata": {},
   "outputs": [],
   "source": [
    "print(All_students)"
   ]
  },
  {
   "cell_type": "code",
   "execution_count": null,
   "id": "732ba86c-d80d-44e4-a499-127538c05a01",
   "metadata": {},
   "outputs": [],
   "source": [
    "for i in All_students:\n",
    "    print(i)"
   ]
  },
  {
   "cell_type": "code",
   "execution_count": null,
   "id": "bf39675f-d412-44a1-8116-33d9f531de58",
   "metadata": {},
   "outputs": [],
   "source": [
    "for i in All_students:\n",
    "    print(i[\"marks\"])"
   ]
  },
  {
   "cell_type": "code",
   "execution_count": null,
   "id": "421c0910-9b26-442f-ac1f-0b35ff8e162a",
   "metadata": {},
   "outputs": [],
   "source": [
    "sum_marks = 0\n",
    "total_len = len(All_students)\n",
    "for student in All_students:\n",
    "    sum_marks += int((student['marks']))\n",
    "avg = sum_marks/total_len\n",
    "print(avg)"
   ]
  },
  {
   "cell_type": "markdown",
   "id": "5e479fb7-7523-414c-9ba0-3feb7a904e3b",
   "metadata": {},
   "source": [
    "# 06 Jul,204\n",
    "## Data Structures\n",
    "### Lists & Tuples"
   ]
  },
  {
   "cell_type": "code",
   "execution_count": 1,
   "id": "274f6e1b-356f-4418-84fe-c632c0430ae3",
   "metadata": {},
   "outputs": [
    {
     "name": "stdout",
     "output_type": "stream",
     "text": [
      "helo\n"
     ]
    }
   ],
   "source": [
    "print(\"helo\")"
   ]
  },
  {
   "cell_type": "code",
   "execution_count": 11,
   "id": "b9b7ae32-bb63-45cf-8e22-43bc3684a1cc",
   "metadata": {},
   "outputs": [],
   "source": [
    "my__list = [1,2,3,4]"
   ]
  },
  {
   "cell_type": "code",
   "execution_count": 12,
   "id": "8003487f-d15f-4747-9488-1287f866a705",
   "metadata": {},
   "outputs": [],
   "source": [
    "my__list.append(6)"
   ]
  },
  {
   "cell_type": "code",
   "execution_count": 13,
   "id": "1fd6c5ad-8105-4090-a07d-3d47e2157fd9",
   "metadata": {},
   "outputs": [
    {
     "name": "stdout",
     "output_type": "stream",
     "text": [
      "[1, 2, 3, 4, 6]\n"
     ]
    }
   ],
   "source": [
    "print(my__list)"
   ]
  },
  {
   "cell_type": "code",
   "execution_count": 23,
   "id": "ec2e315a-8be8-4fa6-8917-44d79a2b9bbc",
   "metadata": {},
   "outputs": [
    {
     "name": "stdout",
     "output_type": "stream",
     "text": [
      "[6, 6, 1, 2, 3, 4, 6]\n"
     ]
    }
   ],
   "source": [
    "my__list.insert(0,6)\n",
    "print(my__list)"
   ]
  },
  {
   "cell_type": "code",
   "execution_count": 24,
   "id": "b4fb8e0f-494d-450e-876c-06b50d1a4f4f",
   "metadata": {},
   "outputs": [],
   "source": [
    "lisst1 = [1,2]\n",
    "lisst2 = [3,4]"
   ]
  },
  {
   "cell_type": "code",
   "execution_count": 27,
   "id": "c30614cf-0762-4c9b-9308-186414ae57fb",
   "metadata": {},
   "outputs": [
    {
     "name": "stdout",
     "output_type": "stream",
     "text": [
      "[1, 2, 3, 4, 3, 4]\n"
     ]
    }
   ],
   "source": [
    "lisst1.extend(lisst2)\n",
    "print(lisst1)"
   ]
  },
  {
   "cell_type": "code",
   "execution_count": 28,
   "id": "5f38cfa2-8140-442c-809e-784048a60427",
   "metadata": {},
   "outputs": [
    {
     "name": "stdout",
     "output_type": "stream",
     "text": [
      "[1, 2, 3, 4, 3, 4, 3, 4]\n"
     ]
    }
   ],
   "source": [
    "lisst3 = lisst1 + lisst2\n",
    "print(lisst3)"
   ]
  },
  {
   "cell_type": "code",
   "execution_count": 29,
   "id": "5a7e353d-f872-47e8-8a01-262ee4147ea1",
   "metadata": {},
   "outputs": [
    {
     "data": {
      "text/plain": [
       "[3, 4, 1, 2, 3, 4, 3, 4, 3, 4]"
      ]
     },
     "execution_count": 29,
     "metadata": {},
     "output_type": "execute_result"
    }
   ],
   "source": [
    "lisst2+lisst3"
   ]
  },
  {
   "cell_type": "code",
   "execution_count": 59,
   "id": "e523a415-933d-424f-a741-6cffd935b319",
   "metadata": {},
   "outputs": [],
   "source": [
    "def mull(lst):\n",
    "    new_lst = []\n",
    "    for i in lst:\n",
    "        new_lst.append(i*2)\n",
    "    return new1\n",
    "\n",
    "# ????????????????????"
   ]
  },
  {
   "cell_type": "code",
   "execution_count": null,
   "id": "3f61ca0a-107c-4f37-b704-cc32b9c93af2",
   "metadata": {},
   "outputs": [],
   "source": []
  },
  {
   "cell_type": "code",
   "execution_count": null,
   "id": "40e76adb-70d6-40f4-b781-06795c008330",
   "metadata": {},
   "outputs": [],
   "source": []
  },
  {
   "cell_type": "code",
   "execution_count": null,
   "id": "18f45622-0e9e-4c0b-9653-cbef1db93ffe",
   "metadata": {},
   "outputs": [],
   "source": []
  },
  {
   "cell_type": "markdown",
   "id": "5a4e9a3f-f00a-4ad3-af3d-474811f900b2",
   "metadata": {},
   "source": [
    "Remove 2 from the list using a for loop and define a function"
   ]
  },
  {
   "cell_type": "code",
   "execution_count": 76,
   "id": "e87abcc9-b224-4a45-8e94-270f0bb4bd4e",
   "metadata": {},
   "outputs": [],
   "source": [
    "def rem(rmv):\n",
    "    rmv.remove(2)"
   ]
  },
  {
   "cell_type": "code",
   "execution_count": 77,
   "id": "588ea5d2-c0a7-45af-83d1-89270447d0bb",
   "metadata": {},
   "outputs": [],
   "source": [
    "rem([1,2,3,4,2])"
   ]
  },
  {
   "cell_type": "code",
   "execution_count": 79,
   "id": "b9176a69-3926-4dcb-90dd-372d54ee75ed",
   "metadata": {},
   "outputs": [
    {
     "name": "stdout",
     "output_type": "stream",
     "text": [
      "[1, 3, 4]\n"
     ]
    }
   ],
   "source": [
    "q = [1,2,3,4]\n",
    "q.remove(2)\n",
    "print(q)"
   ]
  },
  {
   "cell_type": "code",
   "execution_count": 103,
   "id": "5bf829d4-cfae-4516-be13-6074d34ab623",
   "metadata": {},
   "outputs": [],
   "source": [
    "def remove_all(lst,x):\n",
    "    lst = []\n",
    "    for i in z:\n",
    "        z.remove(x)\n",
    "    return z"
   ]
  },
  {
   "cell_type": "code",
   "execution_count": 104,
   "id": "61b011a0-5b7f-4aab-b3f9-9e5f91d128ba",
   "metadata": {},
   "outputs": [
    {
     "data": {
      "text/plain": [
       "[]"
      ]
     },
     "execution_count": 104,
     "metadata": {},
     "output_type": "execute_result"
    }
   ],
   "source": [
    "remow([1,2,3,4,2,3,4,2,2,4,3,5],3)"
   ]
  },
  {
   "cell_type": "code",
   "execution_count": 93,
   "id": "18595370-0e9d-41b7-912c-f9e7acc331c4",
   "metadata": {},
   "outputs": [],
   "source": [
    "def remove_items(lst, item): \n",
    "    c = lst.count(item) \n",
    "    for i in range(c): \n",
    "        lst.remove(item) \n",
    "    return lst"
   ]
  },
  {
   "cell_type": "code",
   "execution_count": 97,
   "id": "46f36280-2e73-4dce-a262-e82c58cfe5f0",
   "metadata": {},
   "outputs": [
    {
     "data": {
      "text/plain": [
       "[1, 3, 4, 3, 4, 4, 3, 5]"
      ]
     },
     "execution_count": 97,
     "metadata": {},
     "output_type": "execute_result"
    }
   ],
   "source": [
    "remove_items([1,2,3,4,2,3,4,2,2,4,3,5],2)"
   ]
  },
  {
   "cell_type": "code",
   "execution_count": 125,
   "id": "ae482b1a-87ea-4856-914a-979085c79a14",
   "metadata": {},
   "outputs": [],
   "source": [
    "# Count occurance without For Loop\n",
    "# function and element and how many times that number exists in that list\n",
    "def cnto(lit,elem):\n",
    "    count = lit.count(elem)\n",
    "    return count"
   ]
  },
  {
   "cell_type": "code",
   "execution_count": 126,
   "id": "72a9f0cf-5905-4981-a29c-310fd11d77bd",
   "metadata": {},
   "outputs": [
    {
     "data": {
      "text/plain": [
       "13"
      ]
     },
     "execution_count": 126,
     "metadata": {},
     "output_type": "execute_result"
    }
   ],
   "source": [
    "cnto([1,2,3,4,2,3,4,4,4,4,4,4,4,4,4,4,4,2,2,4,3,5],4)"
   ]
  },
  {
   "cell_type": "code",
   "execution_count": 127,
   "id": "fc0520b0-60f6-463d-801b-0491c5696cf9",
   "metadata": {},
   "outputs": [],
   "source": [
    "# Using For Loop, Count occurance of a number \n",
    "\n",
    "def occ(lst, numss):\n",
    "    countt = 0\n",
    "    for i in lst:\n",
    "        if i ==numss:\n",
    "            countt = countt +1\n",
    "    return countt"
   ]
  },
  {
   "cell_type": "code",
   "execution_count": 128,
   "id": "8b71b99c-9501-4ae8-8436-5ad291745db2",
   "metadata": {},
   "outputs": [
    {
     "data": {
      "text/plain": [
       "1"
      ]
     },
     "execution_count": 128,
     "metadata": {},
     "output_type": "execute_result"
    }
   ],
   "source": [
    "occ([1,2,3,4,2,3,4,2,2,4,3,5],5)"
   ]
  },
  {
   "cell_type": "markdown",
   "id": "518070cc-9459-4d4f-8324-7b7f2ce3aec1",
   "metadata": {},
   "source": [
    "remove first occurance\n",
    "remove all occurance\n",
    "count occurance of a number (for loop and simple)"
   ]
  },
  {
   "cell_type": "markdown",
   "id": "be85c90f-fe1b-4959-be4e-f63f2326ebc5",
   "metadata": {},
   "source": [
    "### Reverse a List"
   ]
  },
  {
   "cell_type": "code",
   "execution_count": 204,
   "id": "d74f1e23-b9f6-4a12-8162-f7d762f1cce0",
   "metadata": {},
   "outputs": [],
   "source": [
    "# Reverse a list\n",
    "def reverselst(lst):\n",
    "    rvlst = []\n",
    "    for i in range(len(lst)-1,-1,-1):\n",
    "        rvlst.append(lst[i])\n",
    "    print(rvlst)"
   ]
  },
  {
   "cell_type": "code",
   "execution_count": 205,
   "id": "365ef177-91f8-40eb-8338-a8eae35848a9",
   "metadata": {
    "jupyter": {
     "source_hidden": true
    }
   },
   "outputs": [
    {
     "name": "stdout",
     "output_type": "stream",
     "text": [
      "[2, 5, 4, 3, 1]\n"
     ]
    }
   ],
   "source": [
    "reverselst([1,3,4,5,2])"
   ]
  },
  {
   "cell_type": "code",
   "execution_count": 217,
   "id": "4d8fdf82-7691-49c4-9cac-1c7798043322",
   "metadata": {},
   "outputs": [
    {
     "name": "stdout",
     "output_type": "stream",
     "text": [
      "[5, 4, 3, 2, 1]\n"
     ]
    }
   ],
   "source": [
    "lls = [1,2,3,4,5]\n",
    "lls.reverse()\n",
    "print(lls)"
   ]
  },
  {
   "cell_type": "markdown",
   "id": "b2c4cf03-b9c8-4218-82c0-1b0f6d5eafb2",
   "metadata": {},
   "source": [
    "# List Comprehension??? Reverse List??"
   ]
  },
  {
   "cell_type": "code",
   "execution_count": null,
   "id": "76d296a1-0eb8-4e34-a8e6-99c145044280",
   "metadata": {},
   "outputs": [],
   "source": []
  }
 ],
 "metadata": {
  "kernelspec": {
   "display_name": "Python 3 (ipykernel)",
   "language": "python",
   "name": "python3"
  },
  "language_info": {
   "codemirror_mode": {
    "name": "ipython",
    "version": 3
   },
   "file_extension": ".py",
   "mimetype": "text/x-python",
   "name": "python",
   "nbconvert_exporter": "python",
   "pygments_lexer": "ipython3",
   "version": "3.10.14"
  }
 },
 "nbformat": 4,
 "nbformat_minor": 5
}

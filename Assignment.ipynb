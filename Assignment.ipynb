{
 "cells": [
  {
   "cell_type": "markdown",
   "id": "e3da2560",
   "metadata": {},
   "source": [
    "# How to Calculate the Length of a String?"
   ]
  },
  {
   "cell_type": "code",
   "execution_count": 3,
   "id": "f8dae5cf",
   "metadata": {},
   "outputs": [
    {
     "data": {
      "text/plain": [
       "43"
      ]
     },
     "execution_count": 3,
     "metadata": {},
     "output_type": "execute_result"
    }
   ],
   "source": [
    "abc= \"I'm learning about the statements in python\"\n",
    "len(abc)"
   ]
  },
  {
   "cell_type": "markdown",
   "id": "edaa6697",
   "metadata": {},
   "source": [
    "# How to Acces Certain Value from the String?"
   ]
  },
  {
   "cell_type": "code",
   "execution_count": 2,
   "id": "03cdb68a",
   "metadata": {},
   "outputs": [
    {
     "name": "stdout",
     "output_type": "stream",
     "text": [
      "earning\n"
     ]
    }
   ],
   "source": [
    "abc= \"I'm learning about the statements in python\"\n",
    "xyz=abc[5:12]\n",
    "print(xyz)"
   ]
  },
  {
   "cell_type": "markdown",
   "id": "fc5cd37d",
   "metadata": {},
   "source": [
    "# Write a for loop, which multiplies every number by two?"
   ]
  },
  {
   "cell_type": "code",
   "execution_count": 28,
   "id": "feee8b4b",
   "metadata": {},
   "outputs": [
    {
     "name": "stdout",
     "output_type": "stream",
     "text": [
      "[2, 4, 6, 8, 10, 34]\n"
     ]
    }
   ],
   "source": [
    "med = [1,2,3,4,5,17]\n",
    "\n",
    "for i in range(len(med)):\n",
    "    med [i] = med[i]*2\n",
    "print(med)\n"
   ]
  },
  {
   "cell_type": "code",
   "execution_count": 3,
   "id": "66c12273",
   "metadata": {},
   "outputs": [
    {
     "name": "stdout",
     "output_type": "stream",
     "text": [
      "0\n",
      "2\n",
      "4\n",
      "6\n",
      "8\n"
     ]
    }
   ],
   "source": [
    "\n",
    "for i in range(0,5):\n",
    "    print(i*2)"
   ]
  },
  {
   "cell_type": "markdown",
   "id": "5c7ead84",
   "metadata": {},
   "source": [
    "# How to remove extra spaces from a string?"
   ]
  },
  {
   "cell_type": "code",
   "execution_count": 40,
   "id": "5a6e6cda",
   "metadata": {},
   "outputs": [
    {
     "name": "stdout",
     "output_type": "stream",
     "text": [
      "remove extra spaces from a string\n"
     ]
    }
   ],
   "source": [
    "spaces = \"remove  extra    spaces from    a  string    \"\n",
    "no_spaces = ' '.join(spaces.split())\n",
    "print(no_spaces)"
   ]
  },
  {
   "cell_type": "markdown",
   "id": "f8c2fe96",
   "metadata": {},
   "source": [
    "# How to split a sentence into individual elements?"
   ]
  },
  {
   "cell_type": "code",
   "execution_count": 2,
   "id": "02e32c37",
   "metadata": {},
   "outputs": [
    {
     "name": "stdout",
     "output_type": "stream",
     "text": [
      "['split', 'a', 'sentence', 'into', 'individual', 'elements']\n",
      "split a sentence into individual elements\n"
     ]
    }
   ],
   "source": [
    "no_split = \"split a sentence into individual elements\"\n",
    "split = no_split.split()\n",
    "print(split)\n",
    "nosplit = ' '.join(split)\n",
    "print(nosplit)"
   ]
  },
  {
   "cell_type": "markdown",
   "id": "edfcfc73",
   "metadata": {},
   "source": [
    "# How to make a string in upper case/ lower case?"
   ]
  },
  {
   "cell_type": "code",
   "execution_count": 6,
   "id": "37c57151",
   "metadata": {},
   "outputs": [
    {
     "name": "stdout",
     "output_type": "stream",
     "text": [
      " MAKE A STRING IN UPPER CASE/ LOWER CASE\n",
      " make a string in upper case/ lower case\n"
     ]
    }
   ],
   "source": [
    "Alphabet = \" make a string in upper case/ lower case\"\n",
    "Upper = Alphabet.upper()\n",
    "Lower = Alphabet.lower()\n",
    "print(Upper)\n",
    "print(Lower)"
   ]
  },
  {
   "cell_type": "code",
   "execution_count": null,
   "id": "da561cb6-2c49-494a-86ee-d642f5abca5b",
   "metadata": {},
   "outputs": [],
   "source": []
  }
 ],
 "metadata": {
  "kernelspec": {
   "display_name": "Python 3 (ipykernel)",
   "language": "python",
   "name": "python3"
  },
  "language_info": {
   "codemirror_mode": {
    "name": "ipython",
    "version": 3
   },
   "file_extension": ".py",
   "mimetype": "text/x-python",
   "name": "python",
   "nbconvert_exporter": "python",
   "pygments_lexer": "ipython3",
   "version": "3.11.5"
  }
 },
 "nbformat": 4,
 "nbformat_minor": 5
}

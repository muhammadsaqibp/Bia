{
 "cells": [
  {
   "cell_type": "markdown",
   "id": "700fa55b-01e9-4c7b-93e5-187831dae7a0",
   "metadata": {},
   "source": [
    "# Question_1: For loops with strings\n",
    "## Write a Python program that uses a for loop to reverse a given string and prints the reversed string."
   ]
  },
  {
   "cell_type": "code",
   "execution_count": null,
   "id": "3eb32a74-f835-4c4b-b863-c421fbf06c73",
   "metadata": {},
   "outputs": [],
   "source": [
    "string = \"Reverse a given string using for loop\"\n",
    "reversed_string = \"\"\n",
    "for char in string:\n",
    "    reversed_string = char + reversed_string\n",
    "print(reversed_string)"
   ]
  },
  {
   "cell_type": "code",
   "execution_count": null,
   "id": "f88f3809-2c3a-4d4e-98c7-43c46db26495",
   "metadata": {},
   "outputs": [],
   "source": [
    "sss = \"This is a data science and AI course\"\n",
    "neg_sss = ''\n",
    "for char in sss:\n",
    "    neg_sss = char + neg_sss\n",
    "print(neg_sss)"
   ]
  },
  {
   "cell_type": "code",
   "execution_count": null,
   "id": "a43bf258-16bd-4db0-9d4a-e33b25024c9a",
   "metadata": {},
   "outputs": [],
   "source": [
    "string = \"for loop with reversed string\"\n",
    "reversed_string = ''\n",
    "for char in string:\n",
    "        reversed_string += char\n",
    "print(string)\n",
    "print(reversed_string)"
   ]
  },
  {
   "cell_type": "markdown",
   "id": "0b3f1f79-ac7f-4b0d-a5f8-2b09556d8f13",
   "metadata": {},
   "source": [
    "# Question 2 (nested for loops - pattern)\n",
    "## Create a Python program that uses nested for loops to print a diamond pattern of asterisks."
   ]
  },
  {
   "cell_type": "code",
   "execution_count": null,
   "id": "39b36072-9e8f-4ba3-bbd1-6a4aabac9809",
   "metadata": {},
   "outputs": [],
   "source": [
    "rows = int(input(\"Enter No. of Rows\"))\n",
    "\n",
    "for i in range(rows):\n",
    "    for j in range(rows - i - 1):\n",
    "        print(\" \", end=\"\")\n",
    "    for j in range(2 * i + 1):\n",
    "        print(\"*\", end=\"\")\n",
    "    print()\n",
    "for i in range(rows - 1):\n",
    "    for j in range(i + 1):\n",
    "         print(\" \", end=\"\")\n",
    "    for j in range(2 * (rows - i - 1) - 1):\n",
    "         print(\"*\", end=\"\")\n",
    "    print()"
   ]
  },
  {
   "cell_type": "code",
   "execution_count": null,
   "id": "59184063-ed64-40ef-b461-1c29eb4284f2",
   "metadata": {},
   "outputs": [],
   "source": [
    "def pattern(n):\n",
    "    for i in range(n):\n",
    "        print(\" \"*(n-i-1) + \"*\" *(i*2))\n",
    "    for j in range(n-1,0,-1):\n",
    "        print(\" \"*(n-j-1) + \"*\"*(j*2))"
   ]
  },
  {
   "cell_type": "code",
   "execution_count": null,
   "id": "6385a11e-aead-477c-a176-c941db3c209c",
   "metadata": {
    "scrolled": true
   },
   "outputs": [],
   "source": [
    "pattern(5)"
   ]
  },
  {
   "cell_type": "code",
   "execution_count": null,
   "id": "a275435d-36ab-4ca5-a61d-2aa92d541bce",
   "metadata": {},
   "outputs": [],
   "source": [
    "rown = 5000\n",
    "for i in range(rown):\n",
    "    print(\" \"*(rown-1-i) + \"*\"*(i*2))\n",
    "for i in range(rown-1,0,-1):\n",
    "    print(\" \"*(rown-1-i) + \"*\"*(i*2))"
   ]
  },
  {
   "cell_type": "markdown",
   "id": "8bb832e4-12bd-4784-919e-ba94968fd630",
   "metadata": {},
   "source": [
    "# Question 3 (while loop with file handling)\n",
    "## Write a Python program that uses a while loop to read lines from a text file and counts the number of lines that contain the word \"Python.\""
   ]
  },
  {
   "cell_type": "code",
   "execution_count": 1,
   "id": "d0746b6c-9610-4dde-b10b-c47e0818d043",
   "metadata": {},
   "outputs": [
    {
     "data": {
      "text/plain": [
       "12"
      ]
     },
     "execution_count": 1,
     "metadata": {},
     "output_type": "execute_result"
    }
   ],
   "source": [
    "def count_python_lines(filename):\n",
    "    count = 0\n",
    "    with open(filename, 'r') as file:\n",
    "        line = file.readline()\n",
    "        while line:\n",
    "            if not line:\n",
    "                break\n",
    "            if \"python\" in line:\n",
    "                count += 1\n",
    "            line = file.readline()\n",
    "    return count\n",
    "count_python_lines(\"python.txt\")"
   ]
  },
  {
   "cell_type": "code",
   "execution_count": 2,
   "id": "bb4680fb",
   "metadata": {},
   "outputs": [
    {
     "name": "stdout",
     "output_type": "stream",
     "text": [
      "Number of lines containing 'Python': 12\n"
     ]
    }
   ],
   "source": [
    "filename = \"python.txt\"\n",
    "python_count = count_python_lines(filename)\n",
    "print(\"Number of lines containing 'Python':\", python_count)"
   ]
  },
  {
   "cell_type": "code",
   "execution_count": null,
   "id": "6ecc9d03-ff7b-404e-86cc-c95a3958a681",
   "metadata": {},
   "outputs": [],
   "source": []
  },
  {
   "cell_type": "markdown",
   "id": "2b85cea9-00c7-4013-b334-f93be85e895a",
   "metadata": {},
   "source": [
    "Question 4 (nested while loops - matrix):\n",
    "Create a Python program that uses nested while loops to generate and print a multiplication table for numbers from 1 to 10."
   ]
  },
  {
   "cell_type": "code",
   "execution_count": null,
   "id": "5fed120b-c498-46cb-b25d-5d4e9ceaded2",
   "metadata": {},
   "outputs": [],
   "source": [
    "\n",
    "           "
   ]
  },
  {
   "cell_type": "code",
   "execution_count": null,
   "id": "27d2564e-a938-489e-8168-aae96060c02d",
   "metadata": {},
   "outputs": [],
   "source": []
  },
  {
   "cell_type": "markdown",
   "id": "3b9632ba-9f0e-4607-9c18-27175eeff32d",
   "metadata": {},
   "source": [
    "# Question 5 (for loop with dictionary):\n",
    "Write a Python program that uses a for loop to calculate and print the average score of students from a dictionary of scores."
   ]
  },
  {
   "cell_type": "code",
   "execution_count": null,
   "id": "4d3ad5e2",
   "metadata": {},
   "outputs": [],
   "source": [
    "    student_2 = {\"name\":\"A\",\"age\":\"22\",\"marks\":\"47\"}\n",
    "    student_3 = {\"name\":\"B\",\"age\":\"27\",\"marks\":\"57\"}\n",
    "    student_4 = {\"name\":\"C\",\"age\":\"28\",\"marks\":\"67\"}\n",
    "    student_1 = {\"name\":\"D\",\"age\":\"20\",\"marks\":\"87\"}\n",
    "    student_5 = {\"name\":\"E\",\"age\":\"21\",\"marks\":\"97\"}\n",
    "    student_6 = {\"name\":\"F\",\"age\":\"22\",\"marks\":\"77\"}\n",
    "    student_7 = {\"name\":\"G\",\"age\":\"24\",\"marks\":\"66\"}"
   ]
  },
  {
   "cell_type": "code",
   "execution_count": null,
   "id": "d701b8e3-c9fa-4ab2-84c6-ff31f1b5c7cf",
   "metadata": {},
   "outputs": [],
   "source": [
    "All_students = [student_1,student_2,student_3,student_4,student_5,student_6,student_7]"
   ]
  },
  {
   "cell_type": "code",
   "execution_count": null,
   "id": "6c2dbb62-f611-47ba-9b1b-9f0f12269a5c",
   "metadata": {},
   "outputs": [],
   "source": [
    "All_students[0]"
   ]
  },
  {
   "cell_type": "code",
   "execution_count": null,
   "id": "bb9f2abf-5b5e-42ca-a8cf-d53befd38964",
   "metadata": {},
   "outputs": [],
   "source": []
  },
  {
   "cell_type": "code",
   "execution_count": null,
   "id": "2870a6c1-76a5-4614-93f2-311a9d869e64",
   "metadata": {},
   "outputs": [],
   "source": []
  }
 ],
 "metadata": {
  "kernelspec": {
   "display_name": "Python 3 (ipykernel)",
   "language": "python",
   "name": "python3"
  },
  "language_info": {
   "codemirror_mode": {
    "name": "ipython",
    "version": 3
   },
   "file_extension": ".py",
   "mimetype": "text/x-python",
   "name": "python",
   "nbconvert_exporter": "python",
   "pygments_lexer": "ipython3",
   "version": "3.10.14"
  }
 },
 "nbformat": 4,
 "nbformat_minor": 5
}
